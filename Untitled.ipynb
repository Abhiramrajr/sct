{
 "cells": [
  {
   "cell_type": "code",
   "execution_count": 7,
   "id": "a51492a7-86ed-4c08-ae82-8e3bcd6e0fd8",
   "metadata": {},
   "outputs": [
    {
     "ename": "ModuleNotFoundError",
     "evalue": "No module named 'tensorflow.python'",
     "output_type": "error",
     "traceback": [
      "\u001b[1;31m---------------------------------------------------------------------------\u001b[0m",
      "\u001b[1;31mModuleNotFoundError\u001b[0m                       Traceback (most recent call last)",
      "Cell \u001b[1;32mIn[7], line 1\u001b[0m\n\u001b[1;32m----> 1\u001b[0m \u001b[38;5;28;01mimport\u001b[39;00m \u001b[38;5;21;01mtensorflow\u001b[39;00m \u001b[38;5;28;01mas\u001b[39;00m \u001b[38;5;21;01mtf\u001b[39;00m\n\u001b[0;32m      2\u001b[0m \u001b[38;5;28;01mfrom\u001b[39;00m \u001b[38;5;21;01mtensorflow\u001b[39;00m\u001b[38;5;21;01m.\u001b[39;00m\u001b[38;5;21;01mkeras\u001b[39;00m \u001b[38;5;28;01mimport\u001b[39;00m layers, models\n\u001b[0;32m      4\u001b[0m \u001b[38;5;28;01mdef\u001b[39;00m \u001b[38;5;21mcreate_mlp\u001b[39m(input_size, hidden_sizes, output_size):\n",
      "File \u001b[1;32m~\\AppData\\Local\\Packages\\PythonSoftwareFoundation.Python.3.12_qbz5n2kfra8p0\\LocalCache\\local-packages\\Python312\\site-packages\\tensorflow\\__init__.py:40\u001b[0m\n\u001b[0;32m     37\u001b[0m _os\u001b[38;5;241m.\u001b[39menviron\u001b[38;5;241m.\u001b[39msetdefault(\u001b[38;5;124m\"\u001b[39m\u001b[38;5;124mENABLE_RUNTIME_UPTIME_TELEMETRY\u001b[39m\u001b[38;5;124m\"\u001b[39m, \u001b[38;5;124m\"\u001b[39m\u001b[38;5;124m1\u001b[39m\u001b[38;5;124m\"\u001b[39m)\n\u001b[0;32m     39\u001b[0m \u001b[38;5;66;03m# Do not remove this line; See https://github.com/tensorflow/tensorflow/issues/42596\u001b[39;00m\n\u001b[1;32m---> 40\u001b[0m \u001b[38;5;28;01mfrom\u001b[39;00m \u001b[38;5;21;01mtensorflow\u001b[39;00m\u001b[38;5;21;01m.\u001b[39;00m\u001b[38;5;21;01mpython\u001b[39;00m \u001b[38;5;28;01mimport\u001b[39;00m pywrap_tensorflow \u001b[38;5;28;01mas\u001b[39;00m _pywrap_tensorflow  \u001b[38;5;66;03m# pylint: disable=unused-import\u001b[39;00m\n\u001b[0;32m     41\u001b[0m \u001b[38;5;28;01mfrom\u001b[39;00m \u001b[38;5;21;01mtensorflow\u001b[39;00m\u001b[38;5;21;01m.\u001b[39;00m\u001b[38;5;21;01mpython\u001b[39;00m\u001b[38;5;21;01m.\u001b[39;00m\u001b[38;5;21;01mtools\u001b[39;00m \u001b[38;5;28;01mimport\u001b[39;00m module_util \u001b[38;5;28;01mas\u001b[39;00m _module_util\n\u001b[0;32m     42\u001b[0m \u001b[38;5;28;01mfrom\u001b[39;00m \u001b[38;5;21;01mtensorflow\u001b[39;00m\u001b[38;5;21;01m.\u001b[39;00m\u001b[38;5;21;01mpython\u001b[39;00m\u001b[38;5;21;01m.\u001b[39;00m\u001b[38;5;21;01mutil\u001b[39;00m\u001b[38;5;21;01m.\u001b[39;00m\u001b[38;5;21;01mlazy_loader\u001b[39;00m \u001b[38;5;28;01mimport\u001b[39;00m KerasLazyLoader \u001b[38;5;28;01mas\u001b[39;00m _KerasLazyLoader\n",
      "\u001b[1;31mModuleNotFoundError\u001b[0m: No module named 'tensorflow.python'"
     ]
    }
   ],
   "source": [
    "import tensorflow as tf\n",
    "from tensorflow.keras import layers, models\n",
    "\n",
    "def create_mlp(input_size, hidden_sizes, output_size):\n",
    "    model = models.Sequential()\n",
    "    model.add(layers.InputLayer(input_size, ))\n",
    "    for hidden_size in hidden_sizes:\n",
    "        model.add(layers.HiddenLayer(hidden_sizes, activaion='relu'))\n",
    "    model.add(layers.OutputLayer(output_size, activation='softmax'))\n",
    "    return model\n",
    "\n",
    "if __name__ == \"__main__\":\n",
    "    input_size = 10\n",
    "    hidden_sizes = [50,30]\n",
    "    output_size = 2\n",
    "    \n",
    "    mlp_model = create_mlp(input_size,hidden_sizes,output_size)\n",
    "    \n",
    "    mlp_model.summary()"
   ]
  },
  {
   "cell_type": "code",
   "execution_count": 8,
   "id": "9ae5df4e-a143-4a48-84b8-3fcb356e016b",
   "metadata": {},
   "outputs": [
    {
     "name": "stdout",
     "output_type": "stream",
     "text": [
      "Generation 1 Best - 110000 Fitness = 4\n",
      "Generation 2 Best - 010111 Fitness = 4\n",
      "Generation 3 Best - 100111 Fitness = 4\n",
      "Generation 4 Best - 110111 Fitness = 5\n",
      "Generation 5 Best - 010110 Fitness = 5\n",
      "Generation 6 Best - 010110 Fitness = 5\n",
      "Generation 7 Best - 010110 Fitness = 5\n",
      "Generation 8 Best - 010110 Fitness = 5\n",
      "Generation 9 Best - 010110 Fitness = 5\n",
      "Generation 10 Best - 010110 Fitness = 5\n",
      "Generation 11 Best - 010110 Fitness = 5\n",
      "Generation 12 Best - 010110 Fitness = 5\n",
      "Generation 13 Best - 010110 Fitness = 5\n",
      "Generation 14 Best - 110110 Fitness = 6\n",
      "Target reached\n"
     ]
    }
   ],
   "source": [
    "import random\n",
    "\n",
    "population_size = 10\n",
    "chromosome_length = 6\n",
    "target = '110110'\n",
    "mutation_rate = 0.1\n",
    "generations = 50\n",
    "\n",
    "def gen_pop():\n",
    "    population = []\n",
    "    for i in range(population_size):\n",
    "        chromosome = ''\n",
    "        for j in range(chromosome_length):\n",
    "            chromosome += random.choice('01')\n",
    "        population.append(chromosome)\n",
    "    return population\n",
    "\n",
    "def fitness(chromosome):\n",
    "    score = 0\n",
    "    for i in range(chromosome_length):\n",
    "        if chromosome[i] == target[i]:\n",
    "            score += 1\n",
    "    return score\n",
    "\n",
    "def select_parents(population):\n",
    "    scores = []\n",
    "    for chromosome in population:\n",
    "        scores.append(fitness(chromosome))\n",
    "    parent1 = random.choices(population, weights=scores, k=1)[0]\n",
    "    parent2 = random.choices(population, weights=scores, k=1)[0]\n",
    "    return parent1, parent2\n",
    "\n",
    "def crossover(parent1, parent2):\n",
    "    point = random.randint(0, chromosome_length - 1)\n",
    "    child1 = parent1[:point] + parent2[point:]\n",
    "    child2 = parent2[:point] + parent1[point:]\n",
    "    return child1, child2\n",
    "\n",
    "def mutate(chromosome):\n",
    "    mutated = ''\n",
    "    for bit in chromosome:\n",
    "        if random.random() < mutation_rate:\n",
    "            mutated += random.choice('01')\n",
    "        else:\n",
    "            mutated += bit\n",
    "    return mutated\n",
    "\n",
    "def genetic_algorithm():\n",
    "    population = gen_pop()\n",
    "    for generation in range(1, generations + 1):\n",
    "        best_chromosome = None\n",
    "        best_fitness = -1\n",
    "        for chromosome in population:\n",
    "            current_fitness = fitness(chromosome)\n",
    "            if current_fitness > best_fitness:\n",
    "                best_fitness = current_fitness\n",
    "                best_chromosome = chromosome\n",
    "        print(f'Generation {generation} Best - {best_chromosome} Fitness = {best_fitness}')\n",
    "        if best_chromosome == target:\n",
    "            print('Target reached')\n",
    "            break\n",
    "        new_pop = []\n",
    "        for i in range(population_size // 2):\n",
    "            parent1, parent2 = select_parents(population)\n",
    "            child1, child2 = crossover(parent1, parent2)\n",
    "            new_pop.append(mutate(child1))\n",
    "            new_pop.append(mutate(child2))\n",
    "        population = new_pop\n",
    "\n",
    "genetic_algorithm()\n"
   ]
  },
  {
   "cell_type": "code",
   "execution_count": 10,
   "id": "bd541c5e-d803-4992-9642-60494b7d4c0f",
   "metadata": {},
   "outputs": [
    {
     "name": "stdin",
     "output_type": "stream",
     "text": [
      "Enter the no.of rows of 1st :  2\n",
      "Enter the no.of columns 1st :  2\n",
      "Enter the no.of rows 2nd :  2\n",
      "Enter the no.of columns 2nd :  2\n"
     ]
    },
    {
     "name": "stdout",
     "output_type": "stream",
     "text": [
      "Enter the elements of 1st matrix\n"
     ]
    },
    {
     "name": "stdin",
     "output_type": "stream",
     "text": [
      " .3\n",
      " .2\n",
      " .1\n",
      " .5\n"
     ]
    },
    {
     "name": "stdout",
     "output_type": "stream",
     "text": [
      "Enter the element of 2nd matrix \n"
     ]
    },
    {
     "name": "stdin",
     "output_type": "stream",
     "text": [
      " .6\n",
      " .4\n",
      " .2\n",
      " .3\n"
     ]
    },
    {
     "name": "stdout",
     "output_type": "stream",
     "text": [
      "1st Matrix =  [[0.3 0.2]\n",
      " [0.1 0.5]]\n",
      "2nd Matrix =  [[0.6 0.4]\n",
      " [0.2 0.3]]\n",
      "Maxmin Composition =  [[0.3 0.3]\n",
      " [0.2 0.3]]\n"
     ]
    }
   ],
   "source": [
    "import numpy as np\n",
    "\n",
    "def max_min(R,S):\n",
    "    result = np.zeros((R.shape[0],S.shape[1]))\n",
    "    for i in range(R.shape[0]):\n",
    "        for j in range(S.shape[1]):\n",
    "            minmax = 0\n",
    "            for k in range(R.shape[1]):\n",
    "                minmax = max(minmax,min(R[i,k],S[k,j]))\n",
    "            result[i,j] = minmax\n",
    "    return result\n",
    "\n",
    "m = int(input(\"Enter the no.of rows of 1st : \"))\n",
    "n = int(input(\"Enter the no.of columns 1st : \"))\n",
    "\n",
    "p = int(input(\"Enter the no.of rows 2nd : \"))\n",
    "q = int(input(\"Enter the no.of columns 2nd : \"))\n",
    "\n",
    "if n != p:\n",
    "    print(\"Cant perform operation !!!\")\n",
    "else:\n",
    "    print(\"Enter the elements of 1st matrix\")\n",
    "    elements1 = []\n",
    "    for i in range(m):\n",
    "        for j in range(n):\n",
    "            elements1.append(float(input()))\n",
    "    \n",
    "    print(\"Enter the element of 2nd matrix \")\n",
    "    elements2 = []\n",
    "    for x in range(p):\n",
    "        for z in range(q):\n",
    "            elements2.append(float(input()))\n",
    "\n",
    "    matrix1 = np.array(elements1).reshape(m,n)\n",
    "    matrix2 = np.array(elements2).reshape(p,q)\n",
    "    \n",
    "    print(\"1st Matrix = \",matrix1)\n",
    "    print(\"2nd Matrix = \",matrix2)\n",
    "    \n",
    "    matrix3 = max_min(matrix1,matrix2)\n",
    "    print(\"Maxmin Composition = \",matrix3)"
   ]
  },
  {
   "cell_type": "code",
   "execution_count": null,
   "id": "dea31342-0a10-45fb-9e62-b0b0df8a003c",
   "metadata": {},
   "outputs": [],
   "source": []
  }
 ],
 "metadata": {
  "kernelspec": {
   "display_name": "Python 3 (ipykernel)",
   "language": "python",
   "name": "python3"
  },
  "language_info": {
   "codemirror_mode": {
    "name": "ipython",
    "version": 3
   },
   "file_extension": ".py",
   "mimetype": "text/x-python",
   "name": "python",
   "nbconvert_exporter": "python",
   "pygments_lexer": "ipython3",
   "version": "3.12.7"
  }
 },
 "nbformat": 4,
 "nbformat_minor": 5
}
